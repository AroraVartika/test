{
  "nbformat": 4,
  "nbformat_minor": 0,
  "metadata": {
    "colab": {
      "provenance": []
    },
    "kernelspec": {
      "name": "python3",
      "display_name": "Python 3"
    },
    "language_info": {
      "name": "python"
    }
  },
  "cells": [
    {
      "cell_type": "markdown",
      "source": [
        "Move Zeroes\n",
        "Given an integer array nums, move all 0's to the end of it while maintaining the relative order of the non-zero elements.\n",
        "\n",
        "Note that you must do this in-place without making a copy of the array.\n",
        "\n",
        "Example 1:\n",
        "Input: nums = [0,1,0,3,12]\n",
        "Output: [1,3,12,0,0]\n",
        "\n",
        "Example 2:\n",
        "Input: nums = [0]\n",
        "Output: [0]\n",
        "\n",
        "Constraints:\n",
        "a. 1 <= nums.length <= 10^4\n",
        "b. -2^31 <= nums[i] <= 2^31 - 1"
      ],
      "metadata": {
        "id": "vc5r_OfAO7WZ"
      }
    },
    {
      "cell_type": "code",
      "source": [
        "def pushZerosToEnd(arr, n):\n",
        "    count = 0 \n",
        "     \n",
        "    for i in range(n):\n",
        "        if arr[i] != 0:\n",
        "             \n",
        "            arr[count] = arr[i]\n",
        "            count+=1\n",
        "     \n",
        "    while count < n:\n",
        "        arr[count] = 0\n",
        "        count += 1\n",
        "         \n",
        "arr = [0,1,0,3,12] \n",
        "n = len(arr)\n",
        "pushZerosToEnd(arr, n)\n",
        "print(\"Array after pushing all zeros to end of array:\")\n",
        "print(arr)"
      ],
      "metadata": {
        "colab": {
          "base_uri": "https://localhost:8080/"
        },
        "id": "aFSP3ArrO7sO",
        "outputId": "43b245d2-85ae-4a1d-fae4-06376997a9d4"
      },
      "execution_count": null,
      "outputs": [
        {
          "output_type": "stream",
          "name": "stdout",
          "text": [
            "Array after pushing all zeros to end of array:\n",
            "[1, 3, 12, 0, 0]\n"
          ]
        }
      ]
    },
    {
      "cell_type": "code",
      "source": [
        "arr[0]"
      ],
      "metadata": {
        "colab": {
          "base_uri": "https://localhost:8080/"
        },
        "id": "Q3oaob5PPn4D",
        "outputId": "180ccc7b-59b9-438c-b6da-07a10f7a0933"
      },
      "execution_count": null,
      "outputs": [
        {
          "output_type": "execute_result",
          "data": {
            "text/plain": [
              "0"
            ]
          },
          "metadata": {},
          "execution_count": 7
        }
      ]
    }
  ]
}